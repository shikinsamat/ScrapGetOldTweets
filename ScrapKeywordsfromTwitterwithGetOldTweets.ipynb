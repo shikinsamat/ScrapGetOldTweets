{
  "nbformat": 4,
  "nbformat_minor": 0,
  "metadata": {
    "colab": {
      "name": "ScrapKeywordsfromTwitterwithGetOldTweets.ipynb",
      "provenance": [],
      "collapsed_sections": [],
      "authorship_tag": "ABX9TyPUx1u9FM2MfmCf0GbpCS71",
      "include_colab_link": true
    },
    "kernelspec": {
      "name": "python3",
      "display_name": "Python 3"
    }
  },
  "cells": [
    {
      "cell_type": "markdown",
      "metadata": {
        "id": "view-in-github",
        "colab_type": "text"
      },
      "source": [
        "<a href=\"https://colab.research.google.com/github/shikinsamat/ScrapGetOldTweets/blob/master/ScrapKeywordsfromTwitterwithGetOldTweets.ipynb\" target=\"_parent\"><img src=\"https://colab.research.google.com/assets/colab-badge.svg\" alt=\"Open In Colab\"/></a>"
      ]
    },
    {
      "cell_type": "markdown",
      "metadata": {
        "id": "GxbwDvfWjxa1",
        "colab_type": "text"
      },
      "source": [
        "**Install GetOldTweets from Library**"
      ]
    },
    {
      "cell_type": "code",
      "metadata": {
        "id": "23aPZbj-jX44",
        "colab_type": "code",
        "colab": {
          "base_uri": "https://localhost:8080/",
          "height": 196
        },
        "outputId": "30fe7656-e54e-4856-cc43-1f900ed28fab"
      },
      "source": [
        "pip install GetOldTweets3"
      ],
      "execution_count": 1,
      "outputs": [
        {
          "output_type": "stream",
          "text": [
            "Collecting GetOldTweets3\n",
            "  Downloading https://files.pythonhosted.org/packages/ed/f4/a00c2a7c90801abc875325bb5416ce9090ac86d06a00cc887131bd73ba45/GetOldTweets3-0.0.11-py3-none-any.whl\n",
            "Collecting pyquery>=1.2.10\n",
            "  Downloading https://files.pythonhosted.org/packages/78/43/95d42e386c61cb639d1a0b94f0c0b9f0b7d6b981ad3c043a836c8b5bc68b/pyquery-1.4.1-py2.py3-none-any.whl\n",
            "Requirement already satisfied: lxml>=3.5.0 in /usr/local/lib/python3.6/dist-packages (from GetOldTweets3) (4.2.6)\n",
            "Collecting cssselect>0.7.9\n",
            "  Downloading https://files.pythonhosted.org/packages/3b/d4/3b5c17f00cce85b9a1e6f91096e1cc8e8ede2e1be8e96b87ce1ed09e92c5/cssselect-1.1.0-py2.py3-none-any.whl\n",
            "Installing collected packages: cssselect, pyquery, GetOldTweets3\n",
            "Successfully installed GetOldTweets3-0.0.11 cssselect-1.1.0 pyquery-1.4.1\n"
          ],
          "name": "stdout"
        }
      ]
    },
    {
      "cell_type": "markdown",
      "metadata": {
        "id": "Ot8MU3BKj6GM",
        "colab_type": "text"
      },
      "source": [
        "**Since I am using Google Colab, I need to mount the Google Drive**"
      ]
    },
    {
      "cell_type": "code",
      "metadata": {
        "id": "YL30GvX7j7Kg",
        "colab_type": "code",
        "colab": {
          "base_uri": "https://localhost:8080/",
          "height": 125
        },
        "outputId": "6d59b8dd-6985-4903-c515-0bcdddf57679"
      },
      "source": [
        "from google.colab import drive\n",
        "drive.mount('/content/drive')"
      ],
      "execution_count": 2,
      "outputs": [
        {
          "output_type": "stream",
          "text": [
            "Go to this URL in a browser: https://accounts.google.com/o/oauth2/auth?client_id=947318989803-6bn6qk8qdgf4n4g3pfee6491hc0brc4i.apps.googleusercontent.com&redirect_uri=urn%3aietf%3awg%3aoauth%3a2.0%3aoob&response_type=code&scope=email%20https%3a%2f%2fwww.googleapis.com%2fauth%2fdocs.test%20https%3a%2f%2fwww.googleapis.com%2fauth%2fdrive%20https%3a%2f%2fwww.googleapis.com%2fauth%2fdrive.photos.readonly%20https%3a%2f%2fwww.googleapis.com%2fauth%2fpeopleapi.readonly\n",
            "\n",
            "Enter your authorization code:\n",
            "··········\n",
            "Mounted at /content/drive\n"
          ],
          "name": "stdout"
        }
      ]
    },
    {
      "cell_type": "markdown",
      "metadata": {
        "id": "mChpyzi7kZIn",
        "colab_type": "text"
      },
      "source": [
        "**Import the libraries**"
      ]
    },
    {
      "cell_type": "code",
      "metadata": {
        "id": "kPB3yF7GkasW",
        "colab_type": "code",
        "colab": {}
      },
      "source": [
        "# Importing GetOldTweets3\n",
        "import GetOldTweets3 as got\n",
        "# Importing pandas\n",
        "import pandas as pd"
      ],
      "execution_count": 3,
      "outputs": []
    },
    {
      "cell_type": "code",
      "metadata": {
        "id": "8F5l0y_oke88",
        "colab_type": "code",
        "colab": {}
      },
      "source": [
        "def get_tweets(keyword, state, startdate, enddate, maxtweet):\n",
        "    tweetCriteria = got.manager.TweetCriteria().setQuerySearch(keyword)\\\n",
        "                                            .setSince(startdate)\\\n",
        "                                            .setUntil(enddate)\\\n",
        "                                            .setNear(state)\\\n",
        "                                            .setWithin(\"100mi\")\\\n",
        "                                            .setMaxTweets(maxtweet)\n",
        "    tweet = got.manager.TweetManager.getTweets(tweetCriteria)\n",
        "    \n",
        "    text_tweets = [[tw.username,\n",
        "                tw.text,\n",
        "                tw.date,\n",
        "                tw.retweets,\n",
        "                tw.favorites,\n",
        "                tw.mentions,\n",
        "                tw.hashtags,\n",
        "                tw.geo] for tw in tweet]\n",
        "    df_state= pd.DataFrame(text_tweets, columns = ['User', 'Text', 'Date', 'Favorites', 'Retweets', 'Mentions','Hashtags', 'Geolocation'])\n",
        "    \n",
        "    return df_state"
      ],
      "execution_count": 32,
      "outputs": []
    },
    {
      "cell_type": "markdown",
      "metadata": {
        "id": "pC3f6O6zktsM",
        "colab_type": "text"
      },
      "source": [
        "**Personalized according to our preferences/keyword**"
      ]
    },
    {
      "cell_type": "code",
      "metadata": {
        "id": "R7XeOvpukp5s",
        "colab_type": "code",
        "colab": {
          "base_uri": "https://localhost:8080/",
          "height": 331
        },
        "outputId": "f8a603bd-055e-4eca-bd33-a6459c2b9167"
      },
      "source": [
        "df_1 = get_tweets('covid19', 'Malaysia', \"2020-03-18\", \"2020-03-20\", 1000)\n",
        "df_1.head()"
      ],
      "execution_count": 33,
      "outputs": [
        {
          "output_type": "execute_result",
          "data": {
            "text/html": [
              "<div>\n",
              "<style scoped>\n",
              "    .dataframe tbody tr th:only-of-type {\n",
              "        vertical-align: middle;\n",
              "    }\n",
              "\n",
              "    .dataframe tbody tr th {\n",
              "        vertical-align: top;\n",
              "    }\n",
              "\n",
              "    .dataframe thead th {\n",
              "        text-align: right;\n",
              "    }\n",
              "</style>\n",
              "<table border=\"1\" class=\"dataframe\">\n",
              "  <thead>\n",
              "    <tr style=\"text-align: right;\">\n",
              "      <th></th>\n",
              "      <th>User</th>\n",
              "      <th>Text</th>\n",
              "      <th>Date</th>\n",
              "      <th>Favorites</th>\n",
              "      <th>Retweets</th>\n",
              "      <th>Mentions</th>\n",
              "      <th>Hashtags</th>\n",
              "      <th>Geolocation</th>\n",
              "    </tr>\n",
              "  </thead>\n",
              "  <tbody>\n",
              "    <tr>\n",
              "      <th>0</th>\n",
              "      <td>fancyjackry1992</td>\n",
              "      <td>Selamat pagi. Selamat menjemput rezeki. Awal b...</td>\n",
              "      <td>2020-03-19 21:59:58+00:00</td>\n",
              "      <td>0</td>\n",
              "      <td>0</td>\n",
              "      <td></td>\n",
              "      <td></td>\n",
              "      <td></td>\n",
              "    </tr>\n",
              "    <tr>\n",
              "      <th>1</th>\n",
              "      <td>adzizi</td>\n",
              "      <td>Garlic Pasta #foodporn #adzizikitchen #homemad...</td>\n",
              "      <td>2020-03-19 14:34:54+00:00</td>\n",
              "      <td>0</td>\n",
              "      <td>1</td>\n",
              "      <td></td>\n",
              "      <td>#foodporn #adzizikitchen #homemade #dapurbujan...</td>\n",
              "      <td></td>\n",
              "    </tr>\n",
              "    <tr>\n",
              "      <th>2</th>\n",
              "      <td>BuditBliss</td>\n",
              "      <td>If u think this 2weeks self quarantine is too ...</td>\n",
              "      <td>2020-03-19 13:28:38+00:00</td>\n",
              "      <td>0</td>\n",
              "      <td>0</td>\n",
              "      <td>@ladygaga</td>\n",
              "      <td>#AgainstCorona #CoronaVirus #Covid19 #LadyGaga...</td>\n",
              "      <td></td>\n",
              "    </tr>\n",
              "    <tr>\n",
              "      <th>3</th>\n",
              "      <td>fitrie_nur122</td>\n",
              "      <td>So far #COVID19 Tok nak larangan pegi masjid j...</td>\n",
              "      <td>2020-03-19 12:48:52+00:00</td>\n",
              "      <td>0</td>\n",
              "      <td>1</td>\n",
              "      <td></td>\n",
              "      <td>#COVID19</td>\n",
              "      <td></td>\n",
              "    </tr>\n",
              "    <tr>\n",
              "      <th>4</th>\n",
              "      <td>David14165523</td>\n",
              "      <td>Dapat cuti 14 hari.. #COVID19 kalau gaji tak b...</td>\n",
              "      <td>2020-03-19 11:35:56+00:00</td>\n",
              "      <td>0</td>\n",
              "      <td>0</td>\n",
              "      <td></td>\n",
              "      <td>#COVID19 #CoronaVirusUpdate #Malaysia</td>\n",
              "      <td></td>\n",
              "    </tr>\n",
              "  </tbody>\n",
              "</table>\n",
              "</div>"
            ],
            "text/plain": [
              "              User  ... Geolocation\n",
              "0  fancyjackry1992  ...            \n",
              "1           adzizi  ...            \n",
              "2       BuditBliss  ...            \n",
              "3    fitrie_nur122  ...            \n",
              "4    David14165523  ...            \n",
              "\n",
              "[5 rows x 8 columns]"
            ]
          },
          "metadata": {
            "tags": []
          },
          "execution_count": 33
        }
      ]
    },
    {
      "cell_type": "markdown",
      "metadata": {
        "id": "oXctjHEzoXld",
        "colab_type": "text"
      },
      "source": [
        "**Export and Save in Mounted Google Drive**"
      ]
    },
    {
      "cell_type": "code",
      "metadata": {
        "id": "Az7F-ZwOk5ye",
        "colab_type": "code",
        "colab": {}
      },
      "source": [
        "# exporting as an html file\n",
        "df_1.to_html('keyword_twitter_summary.html')"
      ],
      "execution_count": 20,
      "outputs": []
    },
    {
      "cell_type": "markdown",
      "metadata": {
        "id": "PCxGwtd6n7c5",
        "colab_type": "text"
      },
      "source": [
        "**Resources**\n",
        "\n",
        "\n",
        "\n",
        "1.   https://medium.com/@AIY/getoldtweets3-830ebb8b2dab\n",
        "2.   https://pypi.org/project/GetOldTweets3/"
      ]
    },
    {
      "cell_type": "markdown",
      "metadata": {
        "id": "zXzpuxGloAyJ",
        "colab_type": "text"
      },
      "source": [
        "Last Update: 5 July 2020"
      ]
    }
  ]
}