{
  "nbformat": 4,
  "nbformat_minor": 0,
  "metadata": {
    "colab": {
      "name": "ScrapNewsFromTwittterAccountwithGetOld.ipynb",
      "provenance": [],
      "collapsed_sections": [],
      "toc_visible": true,
      "authorship_tag": "ABX9TyOoiEs8JNFxR0rog+HJyP+U",
      "include_colab_link": true
    },
    "kernelspec": {
      "name": "python3",
      "display_name": "Python 3"
    }
  },
  "cells": [
    {
      "cell_type": "markdown",
      "metadata": {
        "id": "view-in-github",
        "colab_type": "text"
      },
      "source": [
        "<a href=\"https://colab.research.google.com/github/shikinsamat/ScrapGetOldTweets/blob/master/ScrapNewsFromTwittterAccountwithGetOld.ipynb\" target=\"_parent\"><img src=\"https://colab.research.google.com/assets/colab-badge.svg\" alt=\"Open In Colab\"/></a>"
      ]
    },
    {
      "cell_type": "markdown",
      "metadata": {
        "id": "-nPsKnZ8RVGs",
        "colab_type": "text"
      },
      "source": [
        "**Install GetOldTweets from Library**"
      ]
    },
    {
      "cell_type": "code",
      "metadata": {
        "id": "Xbwhm4prP7aZ",
        "colab_type": "code",
        "colab": {}
      },
      "source": [
        "!pip install GetOldTweets3"
      ],
      "execution_count": null,
      "outputs": []
    },
    {
      "cell_type": "markdown",
      "metadata": {
        "id": "2hqvxUaYRfin",
        "colab_type": "text"
      },
      "source": [
        "**Since I am using Google Colab, I need to mount the Google Drive**"
      ]
    },
    {
      "cell_type": "code",
      "metadata": {
        "id": "o0ZsMi-vRtEE",
        "colab_type": "code",
        "colab": {}
      },
      "source": [
        "from google.colab import drive\n",
        "drive.mount('/content/drive')"
      ],
      "execution_count": null,
      "outputs": []
    },
    {
      "cell_type": "markdown",
      "metadata": {
        "id": "g4BNxw1zcWAd",
        "colab_type": "text"
      },
      "source": [
        "**Import the libraries**"
      ]
    },
    {
      "cell_type": "code",
      "metadata": {
        "id": "98WNm4Sec9-0",
        "colab_type": "code",
        "colab": {}
      },
      "source": [
        "# Importing GetOldTweets3\n",
        "import GetOldTweets3 as got\n",
        "# Importing pandas\n",
        "import pandas as pd"
      ],
      "execution_count": 3,
      "outputs": []
    },
    {
      "cell_type": "code",
      "metadata": {
        "id": "5t4xKHPQdGXV",
        "colab_type": "code",
        "colab": {}
      },
      "source": [
        "def get_tweets(username, top_only, start_date, end_date, max_tweets):\n",
        "   \n",
        "    # specifying tweet search criteria \n",
        "    tweetCriteria = got.manager.TweetCriteria()\\\n",
        "                          .setUsername(username)\\\n",
        "                          .setTopTweets(top_only)\\\n",
        "                          .setSince(start_date)\\\n",
        "                          .setUntil(end_date)\\\n",
        "                          .setMaxTweets(max_tweets)\n",
        "    \n",
        "    # scraping tweets based on criteria\n",
        "    tweet = got.manager.TweetManager.getTweets(tweetCriteria)\n",
        "    \n",
        "    # creating list of tweets with the tweet attributes \n",
        "    # specified in the list comprehension\n",
        "    text_tweets = [[tw.username,\n",
        "                tw.text,\n",
        "                tw.date,\n",
        "                tw.retweets,\n",
        "                tw.favorites,\n",
        "                tw.mentions,\n",
        "                tw.hashtags] for tw in tweet]\n",
        "    \n",
        "    # creating dataframe, assigning column names to list of\n",
        "    # tweets corresponding to tweet attributes\n",
        "    news_df = pd.DataFrame(text_tweets, \n",
        "                            columns = ['User', 'Text','Date','Favorites', 'Retweets', 'Mentions', 'HashTags','Location'])\n",
        "    \n",
        "    return news_df"
      ],
      "execution_count": 16,
      "outputs": []
    },
    {
      "cell_type": "markdown",
      "metadata": {
        "id": "jwqGcnFqep_t",
        "colab_type": "text"
      },
      "source": [
        "**Personalized according to our news Twitter account**"
      ]
    },
    {
      "cell_type": "code",
      "metadata": {
        "id": "voDbJSFsdPh8",
        "colab_type": "code",
        "colab": {}
      },
      "source": [
        "# Defining news sources I want to include\n",
        "news_sources = ['bharianmy', 'hmetromy', 'bernamadotcom', 'staronline', ]\n",
        "# getting tweets from the defined new sources, \n",
        "# only including top tweets, \n",
        "# looking at the past week with the end_date not inclusive,\n",
        "# and specifying that we want a max number of tweets = 100.\n",
        "# also sorting the tweets by date, descending.\n",
        "news_df = get_tweets(news_sources, \n",
        "                     top_only = True, \n",
        "                     start_date = \"2020-07-01\", \n",
        "                     end_date = \"2020-07-05\", \n",
        "                     max_tweets = 100).sort_values('Date', ascending=False)\n",
        "news_df.head()"
      ],
      "execution_count": null,
      "outputs": []
    },
    {
      "cell_type": "code",
      "metadata": {
        "id": "kTWg_bmmdaMR",
        "colab_type": "code",
        "colab": {}
      },
      "source": [
        "# exporting as an html file\n",
        "news_df.to_html('news_twitter_summary.html')"
      ],
      "execution_count": 10,
      "outputs": []
    },
    {
      "cell_type": "markdown",
      "metadata": {
        "id": "HYNYNk4ugtSo",
        "colab_type": "text"
      },
      "source": [
        "Resources\n",
        "\n",
        "\n",
        "1.   https://medium.com/@AIY/getoldtweets3-830ebb8b2dab\n",
        "2.   https://pypi.org/project/GetOldTweets3/\n",
        "\n"
      ]
    },
    {
      "cell_type": "markdown",
      "metadata": {
        "id": "FrD1wrpfg8g-",
        "colab_type": "text"
      },
      "source": [
        "Last Update: 5 July 2020"
      ]
    }
  ]
}